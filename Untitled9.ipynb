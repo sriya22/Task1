{
  "nbformat": 4,
  "nbformat_minor": 0,
  "metadata": {
    "colab": {
      "provenance": [],
      "authorship_tag": "ABX9TyPpUyJzk6VexwFvYQ3zqbiv",
      "include_colab_link": true
    },
    "kernelspec": {
      "name": "python3",
      "display_name": "Python 3"
    },
    "language_info": {
      "name": "python"
    }
  },
  "cells": [
    {
      "cell_type": "markdown",
      "metadata": {
        "id": "view-in-github",
        "colab_type": "text"
      },
      "source": [
        "<a href=\"https://colab.research.google.com/github/sriya22/Task1/blob/main/Untitled9.ipynb\" target=\"_parent\"><img src=\"https://colab.research.google.com/assets/colab-badge.svg\" alt=\"Open In Colab\"/></a>"
      ]
    },
    {
      "cell_type": "markdown",
      "source": [
        "import data"
      ],
      "metadata": {
        "id": "IxmHx-8XWqel"
      }
    },
    {
      "cell_type": "code",
      "execution_count": 1,
      "metadata": {
        "id": "FAQVzqDYWaBp"
      },
      "outputs": [],
      "source": [
        "import pandas as pd\n",
        "df = pd.read_csv(\"marketing_campaign.csv\", sep=\"\\t\")"
      ]
    },
    {
      "cell_type": "markdown",
      "source": [
        "check the data"
      ],
      "metadata": {
        "id": "eH3Pch4vW7mL"
      }
    },
    {
      "cell_type": "code",
      "source": [
        "print(df.info())"
      ],
      "metadata": {
        "colab": {
          "base_uri": "https://localhost:8080/"
        },
        "id": "RlTa0To8W3Xq",
        "outputId": "68e0edcd-eb32-4212-f297-72255d0ca872"
      },
      "execution_count": 2,
      "outputs": [
        {
          "output_type": "stream",
          "name": "stdout",
          "text": [
            "<class 'pandas.core.frame.DataFrame'>\n",
            "RangeIndex: 2240 entries, 0 to 2239\n",
            "Data columns (total 29 columns):\n",
            " #   Column               Non-Null Count  Dtype  \n",
            "---  ------               --------------  -----  \n",
            " 0   ID                   2240 non-null   int64  \n",
            " 1   Year_Birth           2240 non-null   int64  \n",
            " 2   Education            2240 non-null   object \n",
            " 3   Marital_Status       2240 non-null   object \n",
            " 4   Income               2216 non-null   float64\n",
            " 5   Kidhome              2240 non-null   int64  \n",
            " 6   Teenhome             2240 non-null   int64  \n",
            " 7   Dt_Customer          2240 non-null   object \n",
            " 8   Recency              2240 non-null   int64  \n",
            " 9   MntWines             2240 non-null   int64  \n",
            " 10  MntFruits            2240 non-null   int64  \n",
            " 11  MntMeatProducts      2240 non-null   int64  \n",
            " 12  MntFishProducts      2240 non-null   int64  \n",
            " 13  MntSweetProducts     2240 non-null   int64  \n",
            " 14  MntGoldProds         2240 non-null   int64  \n",
            " 15  NumDealsPurchases    2240 non-null   int64  \n",
            " 16  NumWebPurchases      2240 non-null   int64  \n",
            " 17  NumCatalogPurchases  2240 non-null   int64  \n",
            " 18  NumStorePurchases    2240 non-null   int64  \n",
            " 19  NumWebVisitsMonth    2240 non-null   int64  \n",
            " 20  AcceptedCmp3         2240 non-null   int64  \n",
            " 21  AcceptedCmp4         2240 non-null   int64  \n",
            " 22  AcceptedCmp5         2240 non-null   int64  \n",
            " 23  AcceptedCmp1         2240 non-null   int64  \n",
            " 24  AcceptedCmp2         2240 non-null   int64  \n",
            " 25  Complain             2240 non-null   int64  \n",
            " 26  Z_CostContact        2240 non-null   int64  \n",
            " 27  Z_Revenue            2240 non-null   int64  \n",
            " 28  Response             2240 non-null   int64  \n",
            "dtypes: float64(1), int64(25), object(3)\n",
            "memory usage: 507.6+ KB\n",
            "None\n"
          ]
        }
      ]
    },
    {
      "cell_type": "code",
      "source": [
        "print(df.head(3))"
      ],
      "metadata": {
        "colab": {
          "base_uri": "https://localhost:8080/"
        },
        "id": "pmT4Y37qXIlh",
        "outputId": "d3328ff8-1586-484b-d3c0-ce92369f6886"
      },
      "execution_count": 3,
      "outputs": [
        {
          "output_type": "stream",
          "name": "stdout",
          "text": [
            "     ID  Year_Birth   Education Marital_Status   Income  Kidhome  Teenhome  \\\n",
            "0  5524        1957  Graduation         Single  58138.0        0         0   \n",
            "1  2174        1954  Graduation         Single  46344.0        1         1   \n",
            "2  4141        1965  Graduation       Together  71613.0        0         0   \n",
            "\n",
            "  Dt_Customer  Recency  MntWines  ...  NumWebVisitsMonth  AcceptedCmp3  \\\n",
            "0  04-09-2012       58       635  ...                  7             0   \n",
            "1  08-03-2014       38        11  ...                  5             0   \n",
            "2  21-08-2013       26       426  ...                  4             0   \n",
            "\n",
            "   AcceptedCmp4  AcceptedCmp5  AcceptedCmp1  AcceptedCmp2  Complain  \\\n",
            "0             0             0             0             0         0   \n",
            "1             0             0             0             0         0   \n",
            "2             0             0             0             0         0   \n",
            "\n",
            "   Z_CostContact  Z_Revenue  Response  \n",
            "0              3         11         1  \n",
            "1              3         11         0  \n",
            "2              3         11         0  \n",
            "\n",
            "[3 rows x 29 columns]\n"
          ]
        }
      ]
    },
    {
      "cell_type": "code",
      "source": [
        "print(df.isnull().sum)"
      ],
      "metadata": {
        "colab": {
          "base_uri": "https://localhost:8080/"
        },
        "id": "g6-YA9zMXKlJ",
        "outputId": "06c82c70-a7c8-411e-e927-06bf247ceb97"
      },
      "execution_count": 4,
      "outputs": [
        {
          "output_type": "stream",
          "name": "stdout",
          "text": [
            "<bound method DataFrame.sum of          ID  Year_Birth  Education  Marital_Status  Income  Kidhome  Teenhome  \\\n",
            "0     False       False      False           False   False    False     False   \n",
            "1     False       False      False           False   False    False     False   \n",
            "2     False       False      False           False   False    False     False   \n",
            "3     False       False      False           False   False    False     False   \n",
            "4     False       False      False           False   False    False     False   \n",
            "...     ...         ...        ...             ...     ...      ...       ...   \n",
            "2235  False       False      False           False   False    False     False   \n",
            "2236  False       False      False           False   False    False     False   \n",
            "2237  False       False      False           False   False    False     False   \n",
            "2238  False       False      False           False   False    False     False   \n",
            "2239  False       False      False           False   False    False     False   \n",
            "\n",
            "      Dt_Customer  Recency  MntWines  ...  NumWebVisitsMonth  AcceptedCmp3  \\\n",
            "0           False    False     False  ...              False         False   \n",
            "1           False    False     False  ...              False         False   \n",
            "2           False    False     False  ...              False         False   \n",
            "3           False    False     False  ...              False         False   \n",
            "4           False    False     False  ...              False         False   \n",
            "...           ...      ...       ...  ...                ...           ...   \n",
            "2235        False    False     False  ...              False         False   \n",
            "2236        False    False     False  ...              False         False   \n",
            "2237        False    False     False  ...              False         False   \n",
            "2238        False    False     False  ...              False         False   \n",
            "2239        False    False     False  ...              False         False   \n",
            "\n",
            "      AcceptedCmp4  AcceptedCmp5  AcceptedCmp1  AcceptedCmp2  Complain  \\\n",
            "0            False         False         False         False     False   \n",
            "1            False         False         False         False     False   \n",
            "2            False         False         False         False     False   \n",
            "3            False         False         False         False     False   \n",
            "4            False         False         False         False     False   \n",
            "...            ...           ...           ...           ...       ...   \n",
            "2235         False         False         False         False     False   \n",
            "2236         False         False         False         False     False   \n",
            "2237         False         False         False         False     False   \n",
            "2238         False         False         False         False     False   \n",
            "2239         False         False         False         False     False   \n",
            "\n",
            "      Z_CostContact  Z_Revenue  Response  \n",
            "0             False      False     False  \n",
            "1             False      False     False  \n",
            "2             False      False     False  \n",
            "3             False      False     False  \n",
            "4             False      False     False  \n",
            "...             ...        ...       ...  \n",
            "2235          False      False     False  \n",
            "2236          False      False     False  \n",
            "2237          False      False     False  \n",
            "2238          False      False     False  \n",
            "2239          False      False     False  \n",
            "\n",
            "[2240 rows x 29 columns]>\n"
          ]
        }
      ]
    },
    {
      "cell_type": "code",
      "source": [
        "df.drop_duplicates(inplace=True)"
      ],
      "metadata": {
        "id": "HNe6dTs_RFav"
      },
      "execution_count": 6,
      "outputs": []
    },
    {
      "cell_type": "code",
      "source": [
        "df.loc[:, 'Income'] = df['Income'].fillna(df['Income'].median())\n",
        "df['Income'] = pd.to_numeric(df['Income'], errors='coerce').round(0).astype('Int64')"
      ],
      "metadata": {
        "id": "gFCnKktQRLox"
      },
      "execution_count": 7,
      "outputs": []
    },
    {
      "cell_type": "code",
      "source": [
        "df['Dt_Customer'] = pd.to_datetime(df['Dt_Customer'], format='%d-%m-%Y')\n",
        "df['Dt_Customer'] = pd.to_datetime(df['Dt_Customer'], errors='coerce')\n"
      ],
      "metadata": {
        "id": "RPHKM7j1RahK"
      },
      "execution_count": 8,
      "outputs": []
    },
    {
      "cell_type": "code",
      "source": [
        "df['Education'] = df['Education'].str.strip().str.lower()\n",
        "df['Marital_Status'] = df['Marital_Status'].str.strip().str.title()"
      ],
      "metadata": {
        "id": "peAKsY_lRxvN"
      },
      "execution_count": 9,
      "outputs": []
    },
    {
      "cell_type": "code",
      "source": [
        "\n",
        "df['Year_Birth'] = df['Year_Birth'].astype(int)\n",
        "df['Kidhome'] = df['Kidhome'].astype(int)\n",
        "df['Teenhome'] = df['Teenhome'].astype(int)\n"
      ],
      "metadata": {
        "id": "zTZtty2OTa03"
      },
      "execution_count": 10,
      "outputs": []
    },
    {
      "cell_type": "code",
      "source": [
        "df.to_csv(\"cleaned_data.csv\", index=False)"
      ],
      "metadata": {
        "id": "z9j0HBxbUiNs"
      },
      "execution_count": 11,
      "outputs": []
    }
  ]
}